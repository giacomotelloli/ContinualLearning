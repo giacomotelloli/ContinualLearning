{
 "cells": [
  {
   "cell_type": "code",
   "execution_count": 4,
   "metadata": {},
   "outputs": [],
   "source": [
    "import torch\n",
    "from avalanche.training.supervised import EWC\n",
    "from avalanche.training.plugins import EvaluationPlugin\n",
    "from avalanche.logging import TensorboardLogger\n",
    "from torch.utils.tensorboard import SummaryWriter\n",
    "from avalanche.evaluation.metrics import accuracy_metrics, loss_metrics, timing_metrics, forgetting_metrics,class_accuracy_metrics\n",
    "from avalanche.benchmarks.classic import CORe50\n",
    "from avalanche.logging import InteractiveLogger\n",
    "from SimpleCNN import *\n",
    "from avalanche.benchmarks.utils import as_avalanche_dataset"
   ]
  },
  {
   "cell_type": "code",
   "execution_count": 5,
   "metadata": {},
   "outputs": [],
   "source": [
    "from torchvision import transforms\n",
    "\n",
    "# Trasformazione per ridurre la risoluzione delle immagini\n",
    "transform = transforms.Compose([\n",
    "    transforms.Resize((64, 64)),  # Riduci la risoluzione a 64x64 (o altra risoluzione desiderata)\n",
    "    transforms.ToTensor()\n",
    "])"
   ]
  },
  {
   "cell_type": "code",
   "execution_count": 6,
   "metadata": {},
   "outputs": [
    {
     "name": "stdout",
     "output_type": "stream",
     "text": [
      "Loading labels...\n",
      "Loading LUP...\n",
      "Loading labels names...\n",
      "Files already downloaded and verified\n",
      "Classi Presenti : 10\n",
      "Training model: SimpleCNN\n"
     ]
    }
   ],
   "source": [
    "# Caricamento del dataset CORe50\n",
    "benchmark = CORe50(scenario=\"nc\",run=0,object_lvl=False,train_transform=transform,eval_transform=transform)\n",
    "log_dir = './tb_data/experiment_SimpleCNN_EWC'\n",
    "\n",
    "# Creazione del logger di TensorBoard per run1\n",
    "tb_logger_run1 = TensorboardLogger(tb_log_dir=log_dir)\n",
    "\n",
    "# Lista dei modelli\n",
    "print(\"Classi Presenti : \"+str(benchmark.n_classes))\n",
    "model = SimpleCNN(num_classes=benchmark.n_classes)\n",
    "\n",
    "print(f\"Training model: {model.__class__.__name__}\")\n"
   ]
  },
  {
   "cell_type": "code",
   "execution_count": 7,
   "metadata": {},
   "outputs": [
    {
     "name": "stdout",
     "output_type": "stream",
     "text": [
      "Training on experience 0\n",
      "Training completed\n",
      "Evaluating on test stream\n",
      "Evaluation completed\n",
      "Training on experience 1\n",
      "Training completed\n",
      "Evaluating on test stream\n",
      "Evaluation completed\n",
      "Training on experience 2\n",
      "Training completed\n",
      "Evaluating on test stream\n",
      "Evaluation completed\n",
      "Training on experience 3\n",
      "Training completed\n",
      "Evaluating on test stream\n",
      "Evaluation completed\n",
      "Training on experience 4\n",
      "Training completed\n",
      "Evaluating on test stream\n",
      "Evaluation completed\n",
      "Training on experience 5\n",
      "Training completed\n",
      "Evaluating on test stream\n",
      "Evaluation completed\n",
      "Training on experience 6\n",
      "Training completed\n",
      "Evaluating on test stream\n",
      "Evaluation completed\n",
      "Training on experience 7\n",
      "Training completed\n",
      "Evaluating on test stream\n",
      "Evaluation completed\n",
      "Training on experience 8\n",
      "Training completed\n",
      "Evaluating on test stream\n",
      "Evaluation completed\n"
     ]
    }
   ],
   "source": [
    "\n",
    "# Plugin per la valutazione\n",
    "eval_plugin = EvaluationPlugin(    \n",
    "    accuracy_metrics(minibatch=True, epoch=True, experience=True, stream=True),\n",
    "    loss_metrics(minibatch=True, epoch=True, experience=True, stream=True),\n",
    "    timing_metrics(epoch=True, epoch_running=True),\n",
    "    forgetting_metrics(experience=True, stream=True),\\\n",
    "    class_accuracy_metrics(stream=True),\\\n",
    "    loggers=[tb_logger_run1])\n",
    "\n",
    "# Definizione della strategia EWC\n",
    "cl_strategy = EWC(\n",
    "    model=model,\n",
    "    optimizer=torch.optim.SGD(model.parameters(), lr=0.01, momentum=0.9),\n",
    "    criterion=torch.nn.CrossEntropyLoss(),\n",
    "    ewc_lambda=0.4,  # lambda per regolarizzazione EWC\n",
    "    train_mb_size=32,\n",
    "    train_epochs=1,\n",
    "    eval_mb_size=100,\n",
    "    device=torch.device('cuda' if torch.cuda.is_available() else 'cpu'),\n",
    "    evaluator=eval_plugin\n",
    ")\n",
    "\n",
    "for experience in benchmark.train_stream:\n",
    "    print(f\"Training on experience {experience.current_experience}\")\n",
    "    cl_strategy.train(experience)\n",
    "    print(\"Training completed\")\n",
    "\n",
    "    print(\"Evaluating on test stream\")\n",
    "    cl_strategy.eval(benchmark.test_stream)\n",
    "    print(\"Evaluation completed\")\n"
   ]
  }
 ],
 "metadata": {
  "kernelspec": {
   "display_name": ".venv",
   "language": "python",
   "name": "python3"
  },
  "language_info": {
   "codemirror_mode": {
    "name": "ipython",
    "version": 3
   },
   "file_extension": ".py",
   "mimetype": "text/x-python",
   "name": "python",
   "nbconvert_exporter": "python",
   "pygments_lexer": "ipython3",
   "version": "3.10.4"
  }
 },
 "nbformat": 4,
 "nbformat_minor": 2
}
