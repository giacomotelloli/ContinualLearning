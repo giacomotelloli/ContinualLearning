{
 "cells": [
  {
   "cell_type": "code",
   "execution_count": 2,
   "metadata": {},
   "outputs": [],
   "source": [
    "import torch\n",
    "from avalanche.training.supervised import EWC\n",
    "from avalanche.training.plugins import EvaluationPlugin\n",
    "from avalanche.logging import TensorboardLogger\n",
    "from torch.utils.tensorboard import SummaryWriter\n",
    "from avalanche.evaluation.metrics import accuracy_metrics, loss_metrics, timing_metrics, forgetting_metrics,class_accuracy_metrics\n",
    "from avalanche.benchmarks.classic import CORe50\n",
    "from avalanche.logging import InteractiveLogger\n",
    "from avalanche.training.supervised import Naive\n",
    "from SimpleCNN import *\n",
    "import torch.optim as optim\n",
    "import torchvision.transforms as transforms\n",
    "from torch.utils.data import DataLoader\n",
    "from avalanche.benchmarks.utils import as_avalanche_dataset"
   ]
  },
  {
   "cell_type": "code",
   "execution_count": 3,
   "metadata": {},
   "outputs": [],
   "source": [
    "from torchvision import transforms\n",
    "\n",
    "# Trasformazione per ridurre la risoluzione delle immagini\n",
    "transform = transforms.Compose([\n",
    "    transforms.Resize((64, 64)),  # Riduci la risoluzione a 64x64 (o altra risoluzione desiderata)\n",
    "    transforms.ToTensor()\n",
    "])"
   ]
  },
  {
   "cell_type": "code",
   "execution_count": 4,
   "metadata": {},
   "outputs": [
    {
     "name": "stdout",
     "output_type": "stream",
     "text": [
      "Loading labels...\n",
      "Loading LUP...\n",
      "Loading labels names...\n",
      "Files already downloaded and verified\n"
     ]
    }
   ],
   "source": [
    "# Caricamento del dataset CORe50\n",
    "benchmark = CORe50(scenario=\"nc\",run=0,object_lvl=False,train_transform=transform,eval_transform=transform)\n",
    "\n",
    "# Unione di tutte le esperienze in un unico dataset\n",
    "train_dataset = as_avalanche_dataset(benchmark.train_stream)\n",
    "test_dataset = as_avalanche_dataset(benchmark.test_stream)\n",
    "\n",
    "# Creazione di un'unica esperienza di addestramento con tutti i dati\n",
    "train_experience = benchmark.train_stream[0]  # Consideriamo solo la prima esperienza per questo esempio\n",
    "test_experience = benchmark.test_stream[0]\n"
   ]
  },
  {
   "cell_type": "code",
   "execution_count": 5,
   "metadata": {},
   "outputs": [
    {
     "name": "stdout",
     "output_type": "stream",
     "text": [
      "Classi Presenti : 10\n",
      "Training model: SimpleCNN\n"
     ]
    }
   ],
   "source": [
    "\n",
    "# Specifica del percorso di salvataggio dei log per TensorBoard\n",
    "log_dir = './tb_data/experiment_classic'\n",
    "\n",
    "# Creazione del logger di TensorBoard per run1\n",
    "tb_logger_run1 = TensorboardLogger(tb_log_dir=log_dir)\n",
    "\n",
    "# Lista dei modelli\n",
    "print(\"Classi Presenti : \"+str(benchmark.n_classes))\n",
    "model = SimpleCNN(num_classes=benchmark.n_classes)\n",
    "\n",
    "print(f\"Training model: {model.__class__.__name__}\")\n"
   ]
  },
  {
   "cell_type": "code",
   "execution_count": 6,
   "metadata": {},
   "outputs": [
    {
     "name": "stderr",
     "output_type": "stream",
     "text": [
      "c:\\Users\\tellg\\Documents\\Universita\\VISIOPE\\2023-2024\\Progetto\\ContinualLearning\\.venv\\lib\\site-packages\\avalanche\\training\\templates\\base.py:468: PositionalArgumentsDeprecatedWarning: Avalanche is transitioning to strategy constructors that accept named (keyword) arguments only. This is done to ensure that there is no confusion regarding the meaning of each argument (strategies can have many arguments). Your are passing 3 positional arguments to the Naive.__init__ method. Consider passing them as names arguments. The ability to pass positional arguments will be removed in the future.\n",
      "  warnings.warn(error_str, category=PositionalArgumentsDeprecatedWarning)\n"
     ]
    }
   ],
   "source": [
    "\n",
    "# Plugin per la valutazione\n",
    "eval_plugin = EvaluationPlugin(    \n",
    "    accuracy_metrics(minibatch=True, epoch=True, experience=True, stream=True),\n",
    "    loss_metrics(minibatch=True, epoch=True, experience=True, stream=True),\n",
    "    timing_metrics(epoch=True, epoch_running=True),\n",
    "    forgetting_metrics(experience=True, stream=True),\\\n",
    "    class_accuracy_metrics(stream=True),\\\n",
    "    loggers=[tb_logger_run1])\n",
    "\n",
    "# Definizione dell'ottimizzatore e della loss function\n",
    "optimizer = optim.SGD(model.parameters(), lr=0.01, momentum=0.9)\n",
    "criterion = nn.CrossEntropyLoss()\n",
    "\n",
    "# Creazione della strategia di addestramento\n",
    "strategy = Naive(\n",
    "    model, optimizer, criterion, train_mb_size=32, train_epochs=10, eval_mb_size=100,\n",
    "    evaluator=eval_plugin\n",
    ")\n",
    "\n"
   ]
  },
  {
   "cell_type": "code",
   "execution_count": 7,
   "metadata": {},
   "outputs": [
    {
     "data": {
      "text/plain": [
       "{'Top1_Acc_MB/train_phase/train_stream/Task000': 1.0,\n",
       " 'Loss_MB/train_phase/train_stream/Task000': 7.351227395702153e-07,\n",
       " 'RunningTime_Epoch/train_phase/train_stream/Task000': 0.0006798477333334935,\n",
       " 'Top1_Acc_Epoch/train_phase/train_stream/Task000': 1.0,\n",
       " 'Loss_Epoch/train_phase/train_stream/Task000': 3.079392446770506e-05,\n",
       " 'Time_Epoch/train_phase/train_stream/Task000': 210.37939890000007,\n",
       " 'Top1_Acc_Exp/eval_phase/test_stream/Task000/Exp000': 0.23374544160811173,\n",
       " 'Loss_Exp/eval_phase/test_stream/Task000/Exp000': 12.375832540499767,\n",
       " 'Top1_Acc_Stream/eval_phase/test_stream/Task000': 0.23374544160811173,\n",
       " 'Loss_Stream/eval_phase/test_stream/Task000': 12.375832540499767,\n",
       " 'StreamForgetting/eval_phase/test_stream': 0.0,\n",
       " 'Top1_ClassAcc_Stream/eval_phase/test_stream/Task000/0': 0.11691486997110469,\n",
       " 'Top1_ClassAcc_Stream/eval_phase/test_stream/Task000/1': 0.435720640569395,\n",
       " 'Top1_ClassAcc_Stream/eval_phase/test_stream/Task000/2': 0.3362222222222222,\n",
       " 'Top1_ClassAcc_Stream/eval_phase/test_stream/Task000/3': 0.37219132369299224,\n",
       " 'Top1_ClassAcc_Stream/eval_phase/test_stream/Task000/4': 0.12980662369415424,\n",
       " 'Top1_ClassAcc_Stream/eval_phase/test_stream/Task000/5': 0.2658959537572254,\n",
       " 'Top1_ClassAcc_Stream/eval_phase/test_stream/Task000/6': 0.136788256227758,\n",
       " 'Top1_ClassAcc_Stream/eval_phase/test_stream/Task000/7': 0.20311457174638486,\n",
       " 'Top1_ClassAcc_Stream/eval_phase/test_stream/Task000/8': 0.14892198266281395,\n",
       " 'Top1_ClassAcc_Stream/eval_phase/test_stream/Task000/9': 0.19199110122358176}"
      ]
     },
     "execution_count": 7,
     "metadata": {},
     "output_type": "execute_result"
    }
   ],
   "source": [
    "# Addestramento del modello utilizzando la strategia Naive di Avalanche\n",
    "strategy.train(train_experience, eval_stream=[test_experience])\n",
    "\n",
    "# Valutazione del modello\n",
    "strategy.eval([test_experience])"
   ]
  }
 ],
 "metadata": {
  "kernelspec": {
   "display_name": ".venv",
   "language": "python",
   "name": "python3"
  },
  "language_info": {
   "codemirror_mode": {
    "name": "ipython",
    "version": 3
   },
   "file_extension": ".py",
   "mimetype": "text/x-python",
   "name": "python",
   "nbconvert_exporter": "python",
   "pygments_lexer": "ipython3",
   "version": "3.10.4"
  }
 },
 "nbformat": 4,
 "nbformat_minor": 2
}
