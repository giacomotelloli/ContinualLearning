{
 "cells": [
  {
   "cell_type": "code",
   "execution_count": 1,
   "metadata": {},
   "outputs": [
    {
     "name": "stderr",
     "output_type": "stream",
     "text": [
      "c:\\Users\\tellg\\Documents\\Universita\\VISIOPE\\2023-2024\\Progetto\\ContinualLearning\\.venv\\lib\\site-packages\\tqdm\\auto.py:21: TqdmWarning: IProgress not found. Please update jupyter and ipywidgets. See https://ipywidgets.readthedocs.io/en/stable/user_install.html\n",
      "  from .autonotebook import tqdm as notebook_tqdm\n"
     ]
    }
   ],
   "source": [
    "import torch\n",
    "from avalanche.training.supervised import LwF\n",
    "from avalanche.training.plugins import EvaluationPlugin\n",
    "from avalanche.logging import TensorboardLogger\n",
    "from torch.utils.tensorboard import SummaryWriter\n",
    "from avalanche.evaluation.metrics import accuracy_metrics, loss_metrics, timing_metrics, forgetting_metrics,class_accuracy_metrics\n",
    "from avalanche.benchmarks.classic import CORe50\n",
    "from avalanche.logging import InteractiveLogger\n",
    "from SimpleCNN import *\n",
    "from avalanche.benchmarks.utils import as_avalanche_dataset"
   ]
  },
  {
   "cell_type": "code",
   "execution_count": 2,
   "metadata": {},
   "outputs": [],
   "source": [
    "from torchvision import transforms\n",
    "\n",
    "# Trasformazione per ridurre la risoluzione delle immagini\n",
    "transform = transforms.Compose([\n",
    "    transforms.Resize((64, 64)),  # Riduci la risoluzione a 64x64 (o altra risoluzione desiderata)\n",
    "    transforms.ToTensor()\n",
    "])"
   ]
  },
  {
   "cell_type": "code",
   "execution_count": 3,
   "metadata": {},
   "outputs": [
    {
     "name": "stdout",
     "output_type": "stream",
     "text": [
      "Loading labels...\n",
      "Loading LUP...\n",
      "Loading labels names...\n",
      "Files already downloaded and verified\n",
      "Classi Presenti : 10\n",
      "Training model: SimpleCNN\n"
     ]
    }
   ],
   "source": [
    "# Caricamento del dataset CORe50\n",
    "benchmark = CORe50(scenario=\"nc\",run=0,object_lvl=False,train_transform=transform,eval_transform=transform)\n",
    "log_dir = './tb_data/experiment_SimpleCNN_LwF'\n",
    "\n",
    "# Creazione del logger di TensorBoard per run1\n",
    "tb_logger_run1 = TensorboardLogger(tb_log_dir=log_dir)\n",
    "\n",
    "# Lista dei modelli\n",
    "print(\"Classi Presenti : \"+str(benchmark.n_classes))\n",
    "model = SimpleCNN(num_classes=benchmark.n_classes)\n",
    "\n",
    "print(f\"Training model: {model.__class__.__name__}\")\n"
   ]
  },
  {
   "cell_type": "code",
   "execution_count": 4,
   "metadata": {},
   "outputs": [
    {
     "name": "stderr",
     "output_type": "stream",
     "text": [
      "c:\\Users\\tellg\\Documents\\Universita\\VISIOPE\\2023-2024\\Progetto\\ContinualLearning\\.venv\\lib\\site-packages\\avalanche\\training\\templates\\base.py:468: PositionalArgumentsDeprecatedWarning: Avalanche is transitioning to strategy constructors that accept named (keyword) arguments only. This is done to ensure that there is no confusion regarding the meaning of each argument (strategies can have many arguments). Your are passing 3 positional arguments to the LwF.__init__ method. Consider passing them as names arguments. The ability to pass positional arguments will be removed in the future.\n",
      "  warnings.warn(error_str, category=PositionalArgumentsDeprecatedWarning)\n"
     ]
    },
    {
     "name": "stdout",
     "output_type": "stream",
     "text": [
      "Training on experience 0\n",
      "Training completed\n",
      "Evaluating on test stream\n",
      "Evaluation completed\n",
      "Training on experience 1\n",
      "Training completed\n",
      "Evaluating on test stream\n",
      "Evaluation completed\n",
      "Training on experience 2\n",
      "Training completed\n",
      "Evaluating on test stream\n",
      "Evaluation completed\n",
      "Training on experience 3\n",
      "Training completed\n",
      "Evaluating on test stream\n",
      "Evaluation completed\n",
      "Training on experience 4\n",
      "Training completed\n",
      "Evaluating on test stream\n",
      "Evaluation completed\n",
      "Training on experience 5\n",
      "Training completed\n",
      "Evaluating on test stream\n",
      "Evaluation completed\n",
      "Training on experience 6\n",
      "Training completed\n",
      "Evaluating on test stream\n",
      "Evaluation completed\n",
      "Training on experience 7\n",
      "Training completed\n",
      "Evaluating on test stream\n",
      "Evaluation completed\n",
      "Training on experience 8\n",
      "Training completed\n",
      "Evaluating on test stream\n",
      "Evaluation completed\n"
     ]
    }
   ],
   "source": [
    "\n",
    "# Plugin per la valutazione\n",
    "eval_plugin = EvaluationPlugin(    \n",
    "    accuracy_metrics(minibatch=True, epoch=True, experience=True, stream=True),\n",
    "    loss_metrics(minibatch=True, epoch=True, experience=True, stream=True),\n",
    "    timing_metrics(epoch=True, epoch_running=True),\n",
    "    forgetting_metrics(experience=True, stream=True),\\\n",
    "    class_accuracy_metrics(stream=True),\\\n",
    "    loggers=[tb_logger_run1])\n",
    "\n",
    "# Imposta l'ottimizzatore\n",
    "optimizer = torch.optim.SGD(model.parameters(), lr=0.1, momentum=0.9)\n",
    "criterion = nn.CrossEntropyLoss()\n",
    "\n",
    "# Definisci la strategia LwF\n",
    "lwf_strategy = LwF(\n",
    "    model,\n",
    "    optimizer,\n",
    "    criterion,\n",
    "    alpha=0.5,  # Peso della loss LwF, modifica secondo necessità\n",
    "    temperature=2.0,  # Temperatura per la distillazione, modifica secondo necessità\n",
    "    train_mb_size=100,  # Dimensione del mini-batch\n",
    "    train_epochs=1,  # Numero di epoche di addestramento\n",
    "    eval_mb_size=32,  # Dimensione del mini-batch per la valutazione\n",
    "    device=torch.device('cuda' if torch.cuda.is_available() else 'cpu'),\n",
    "    evaluator=eval_plugin\n",
    ")\n",
    "\n",
    "for experience in benchmark.train_stream:\n",
    "    print(f\"Training on experience {experience.current_experience}\")\n",
    "    lwf_strategy.train(experience)\n",
    "    print(\"Training completed\")\n",
    "\n",
    "    print(\"Evaluating on test stream\")\n",
    "    lwf_strategy.eval(benchmark.test_stream)\n",
    "    print(\"Evaluation completed\")\n"
   ]
  }
 ],
 "metadata": {
  "kernelspec": {
   "display_name": ".venv",
   "language": "python",
   "name": "python3"
  },
  "language_info": {
   "codemirror_mode": {
    "name": "ipython",
    "version": 3
   },
   "file_extension": ".py",
   "mimetype": "text/x-python",
   "name": "python",
   "nbconvert_exporter": "python",
   "pygments_lexer": "ipython3",
   "version": "3.10.4"
  }
 },
 "nbformat": 4,
 "nbformat_minor": 2
}
