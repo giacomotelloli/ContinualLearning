{
 "cells": [
  {
   "cell_type": "code",
   "execution_count": 7,
   "metadata": {},
   "outputs": [],
   "source": [
    "import torch\n",
    "from avalanche.training.supervised import GEM\n",
    "from avalanche.training.plugins import EvaluationPlugin\n",
    "from avalanche.logging import TensorboardLogger\n",
    "from torch.utils.tensorboard import SummaryWriter\n",
    "from avalanche.evaluation.metrics import accuracy_metrics, loss_metrics, timing_metrics, forgetting_metrics,class_accuracy_metrics\n",
    "from avalanche.benchmarks.classic import CORe50\n",
    "from avalanche.logging import InteractiveLogger\n",
    "from SimpleCNN import *\n",
    "from avalanche.benchmarks.utils import as_avalanche_dataset"
   ]
  },
  {
   "cell_type": "code",
   "execution_count": 8,
   "metadata": {},
   "outputs": [],
   "source": [
    "from torchvision import transforms\n",
    "\n",
    "# Trasformazione per ridurre la risoluzione delle immagini\n",
    "transform = transforms.Compose([\n",
    "    transforms.Resize((64, 64)),  # Riduci la risoluzione a 64x64 (o altra risoluzione desiderata)\n",
    "    transforms.ToTensor()\n",
    "])"
   ]
  },
  {
   "cell_type": "code",
   "execution_count": 9,
   "metadata": {},
   "outputs": [
    {
     "name": "stdout",
     "output_type": "stream",
     "text": [
      "Loading labels...\n",
      "Loading LUP...\n",
      "Loading labels names...\n",
      "Files already downloaded and verified\n",
      "Classi Presenti : 10\n",
      "Training model: SimpleCNN\n"
     ]
    }
   ],
   "source": [
    "# Caricamento del dataset CORe50\n",
    "benchmark = CORe50(scenario=\"nc\",run=0,object_lvl=False,train_transform=transform,eval_transform=transform)\n",
    "log_dir = './tb_data/experiment_SimpleCNN_GEM'\n",
    "\n",
    "# Creazione del logger di TensorBoard per run1\n",
    "tb_logger_run1 = TensorboardLogger(tb_log_dir=log_dir)\n",
    "\n",
    "# Lista dei modelli\n",
    "print(\"Classi Presenti : \"+str(benchmark.n_classes))\n",
    "model = SimpleCNN(num_classes=benchmark.n_classes)\n",
    "\n",
    "print(f\"Training model: {model.__class__.__name__}\")\n"
   ]
  },
  {
   "cell_type": "code",
   "execution_count": 10,
   "metadata": {},
   "outputs": [],
   "source": [
    "\n",
    "# Plugin per la valutazione\n",
    "eval_plugin = EvaluationPlugin(    \n",
    "    accuracy_metrics(minibatch=True, epoch=True, experience=True, stream=True),\n",
    "    loss_metrics(minibatch=True, epoch=True, experience=True, stream=True),\n",
    "    timing_metrics(epoch=True, epoch_running=True),\n",
    "    forgetting_metrics(experience=True, stream=True),\\\n",
    "    class_accuracy_metrics(stream=True),\\\n",
    "    loggers=[tb_logger_run1])\n",
    "\n",
    "# Imposta l'ottimizzatore\n",
    "optimizer = torch.optim.SGD(model.parameters(), lr=0.1, momentum=0.9)\n",
    "criterion = nn.CrossEntropyLoss()\n"
   ]
  },
  {
   "cell_type": "code",
   "execution_count": 11,
   "metadata": {},
   "outputs": [
    {
     "data": {
      "text/plain": [
       "SimpleCNN(\n",
       "  (conv1): Conv2d(3, 32, kernel_size=(3, 3), stride=(1, 1), padding=(1, 1))\n",
       "  (conv2): Conv2d(32, 64, kernel_size=(3, 3), stride=(1, 1), padding=(1, 1))\n",
       "  (conv3): Conv2d(64, 128, kernel_size=(3, 3), stride=(1, 1), padding=(1, 1))\n",
       "  (pool): MaxPool2d(kernel_size=2, stride=2, padding=0, dilation=1, ceil_mode=False)\n",
       "  (fc1): Linear(in_features=8192, out_features=512, bias=True)\n",
       "  (fc2): Linear(in_features=512, out_features=10, bias=True)\n",
       ")"
      ]
     },
     "execution_count": 11,
     "metadata": {},
     "output_type": "execute_result"
    }
   ],
   "source": [
    "model"
   ]
  },
  {
   "cell_type": "code",
   "execution_count": 12,
   "metadata": {},
   "outputs": [
    {
     "name": "stdout",
     "output_type": "stream",
     "text": [
      "Training on experience 0\n",
      "Training completed\n",
      "Evaluating on test stream\n",
      "Evaluation completed\n",
      "Training on experience 1\n",
      "Training completed\n",
      "Evaluating on test stream\n",
      "Evaluation completed\n",
      "Training on experience 2\n",
      "Training completed\n",
      "Evaluating on test stream\n",
      "Evaluation completed\n",
      "Training on experience 3\n",
      "Training completed\n",
      "Evaluating on test stream\n",
      "Evaluation completed\n",
      "Training on experience 4\n",
      "Training completed\n",
      "Evaluating on test stream\n",
      "Evaluation completed\n",
      "Training on experience 5\n",
      "Training completed\n",
      "Evaluating on test stream\n",
      "Evaluation completed\n",
      "Training on experience 6\n",
      "Training completed\n",
      "Evaluating on test stream\n",
      "Evaluation completed\n",
      "Training on experience 7\n",
      "Training completed\n",
      "Evaluating on test stream\n",
      "Evaluation completed\n",
      "Training on experience 8\n",
      "Training completed\n",
      "Evaluating on test stream\n",
      "Evaluation completed\n"
     ]
    }
   ],
   "source": [
    "\n",
    "# Configurazione della strategia GEM\n",
    "gem_strategy = GEM(\n",
    "    model=model,\n",
    "    optimizer=optimizer,\n",
    "    criterion=criterion,\n",
    "    patterns_per_exp=256, \n",
    "    memory_strength=0.5,\n",
    "    train_mb_size=32, \n",
    "    train_epochs=1, \n",
    "    eval_mb_size=100,\n",
    "    device='cuda' if torch.cuda.is_available() else 'cpu',\n",
    "    evaluator=eval_plugin\n",
    "    )\n",
    "\n",
    "for experience in benchmark.train_stream:\n",
    "    print(f\"Training on experience {experience.current_experience}\")\n",
    "    gem_strategy.train(experience)\n",
    "    print(\"Training completed\")\n",
    "\n",
    "    print(\"Evaluating on test stream\")\n",
    "    gem_strategy.eval(benchmark.test_stream)\n",
    "    print(\"Evaluation completed\")\n"
   ]
  }
 ],
 "metadata": {
  "kernelspec": {
   "display_name": ".venv",
   "language": "python",
   "name": "python3"
  },
  "language_info": {
   "codemirror_mode": {
    "name": "ipython",
    "version": 3
   },
   "file_extension": ".py",
   "mimetype": "text/x-python",
   "name": "python",
   "nbconvert_exporter": "python",
   "pygments_lexer": "ipython3",
   "version": "3.10.4"
  }
 },
 "nbformat": 4,
 "nbformat_minor": 2
}
